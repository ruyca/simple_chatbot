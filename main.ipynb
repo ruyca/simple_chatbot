{
 "cells": [
  {
   "cell_type": "markdown",
   "metadata": {},
   "source": [
    "# Chatbot de la FI\n",
    "\n",
    "Código creado para la elaboración de un chatbot que busca ayudar a los estudiantes de la Facultad de Ingeniería con todas sus cuestiones. Elaborado para el tercer examen parcial de Inteligencia Artificial. \n",
    "\n",
    "**Integrantes**:\n",
    "- Ruy Cabello Cuahutle\n",
    "- Raul Palafox Jimenez\n"
   ]
  },
  {
   "cell_type": "markdown",
   "metadata": {},
   "source": [
    "## Liberías"
   ]
  },
  {
   "cell_type": "code",
   "execution_count": 33,
   "metadata": {},
   "outputs": [
    {
     "name": "stderr",
     "output_type": "stream",
     "text": [
      "[nltk_data] Downloading package punkt to\n",
      "[nltk_data]     C:\\Users\\ruyca\\AppData\\Roaming\\nltk_data...\n",
      "[nltk_data]   Package punkt is already up-to-date!\n",
      "[nltk_data] Downloading package stopwords to\n",
      "[nltk_data]     C:\\Users\\ruyca\\AppData\\Roaming\\nltk_data...\n",
      "[nltk_data]   Package stopwords is already up-to-date!\n"
     ]
    },
    {
     "data": {
      "text/plain": [
       "True"
      ]
     },
     "execution_count": 33,
     "metadata": {},
     "output_type": "execute_result"
    }
   ],
   "source": [
    "import numpy as np\n",
    "import random\n",
    "import string \n",
    "import nltk\n",
    "import random\n",
    "import string\n",
    "from nltk.corpus import wordnet\n",
    "from nltk.corpus import stopwords\n",
    "from nltk.tokenize import word_tokenize\n",
    "from nltk.stem import WordNetLemmatizer\n",
    "\n",
    "\n",
    "nltk.download('punkt')\n",
    "nltk.download('stopwords')"
   ]
  },
  {
   "cell_type": "markdown",
   "metadata": {},
   "source": [
    "## Corpus\n",
    "Aquí está toda la lógica y texto necesario para obtener una pregunta-respuesta"
   ]
  },
  {
   "cell_type": "code",
   "execution_count": 93,
   "metadata": {},
   "outputs": [],
   "source": [
    "corpus = {\n",
    "    \"hola\": \"¡Hola! ¿Cómo puedo ayudarte hoy?\",\n",
    "    \"como te llamas\": \"Mi nombre es ChatFI\",\n",
    "    \"cual es tu nombre\": \"Mi nombre es ChatFI\",\n",
    "    \"llamas\": \"Mi nombre es ChatFI\",\n",
    "    \"nombre\": \"Mi nombre es ChatFI\",\n",
    "    \"como te llamas tu\": \"Mi nombre es ChatFI\",\n",
    "    \"adios\": \"Adiós, ¡Que tengas un buen día!\",\n",
    "    \"quien eres\": \"Soy un chatbot creado para ayudarte con tus preguntas. ¿En qué puedo asistirte?\",\n",
    "    \"quien te creo\": \"Fui creado por un desarrollador utilizando la biblioteca NLTK en Python.\",\n",
    "    \"que puedes hacer\": \"Puedo responder a tus preguntas y mantener una conversación básica. ¿En qué más puedo ayudarte?\",\n",
    "    \"que hora es\": \"No tengo un reloj, pero puedes verificar la hora en tu dispositivo.\",\n",
    "    \"que dia es hoy\": \"Hoy es un buen día para aprender algo nuevo. Puedes verificar la fecha en tu dispositivo.\",\n",
    "    \"como estas\": \"Estoy bien, gracias. ¿Y tú?\",\n",
    "    \"mision de la facultad\": \"La misión de la Facultad de Ingeniería de la UNAM es formar profesionales con conocimientos de vanguardia, habilidades profesionales, compromiso ético y visión humanista. La visión incluye programas educativos de vanguardia, personal académico actualizado, y un ambiente académico propicio y colaborativo.\",\n",
    "    \"mision\": \"La misión de la Facultad de Ingeniería de la UNAM es formar profesionales con conocimientos de vanguardia, habilidades profesionales, compromiso ético y visión humanista. La visión incluye programas educativos de vanguardia, personal académico actualizado, y un ambiente académico propicio y colaborativo.\",\n",
    "    \"que programas de estudio ofrece la Facultad de Ingeniera\": \"La Facultad de Ingeniería ofrece programas de estudio en diversas áreas de la ingeniería, incluyendo civil, mecánica, eléctrica, y más.\",\n",
    "    \"programas ofrece\": \"La Facultad de Ingeniería ofrece programas de estudio en diversas áreas de la ingeniería, incluyendo civil, mecánica, eléctrica, y más.\",\n",
    "    \"cuales son los valores fundamentales de la facultad de ingenieria\": \"Los valores fundamentales de la Facultad de Ingeniería incluyen la excelencia académica, la ética, la responsabilidad social y la innovación.\",\n",
    "    \"cuales valores fundamentales facultad\": \"Los valores fundamentales de la Facultad de Ingeniería incluyen la excelencia académica, la ética, la responsabilidad social y la innovación.\",\n",
    "    \"fundada facultad\": \"La Facultad de Ingeniería de la UNAM fue fundada en 1910.\",\n",
    "    \"director\": \"El director de la Facultad de Ingeniería es el Dr. Espriu.\",\n",
    "    \"carreras\": \"Cuenta con 13 licenciaturas, consulta sus programas aqui: https://www.ingenieria.unam.mx/programas_academicos/licenciatura.php\",\n",
    "    \"departamentos\": \"La Facultad de Ingeniería tiene varios departamentos académicos, incluyendo el Departamento de Ingeniería Civil, Ingeniería Mecánica, Ingeniería Eléctrica, entre otros.\",\n",
    "    \"servicios\": \"La Facultad de Ingeniería ofrece diversos servicios a sus estudiantes, como asesorías académicas, bibliotecas, laboratorios y actividades extracurriculares.\",\n",
    "    \"ubicada facultad\": \"La Facultad de Ingeniería de la UNAM está ubicada en Ciudad Universitaria, en la Ciudad de México.\",\n",
    "    \"ubica facultad\": \"La Facultad de Ingeniería de la UNAM está ubicada en Ciudad Universitaria, en la Ciudad de México.\",\n",
    "    \"contactar facultad\": \"En el siguiente link: https://www.ingenieria.unam.mx/nuestra_facultad/contacto.php\",\n",
    "    \"laboratorios\": \"La Facultad de Ingeniería cuenta con laboratorios especializados en diversas áreas de la ingeniería, como el laboratorio de hidráulica, laboratorio de materiales, entre otros.\",\n",
    "    \"areas investigacion\": \"Las principales áreas de investigación incluyen la ingeniería civil, mecánica, eléctrica, ambiental, y más.\",\n",
    "    \"intercambio\": \"La Facultad de Ingeniería ofrece oportunidades de intercambio con diversas universidades internacionales para enriquecer la formación académica de sus estudiantes.\",\n",
    "    \"mapa\": \"Revisa el siguiente enlace: https://www.ssa.ingenieria.unam.mx/salon_aula.html\",\n",
    "    \"plan estudios ingenieria computacion\": \"Este es el plan de estudios: https://www.ingenieria.unam.mx/programas_academicos/licenciatura/computacion.php\",\n",
    "    \"extracurricular\": \"La Facultad de Ingeniería ofrece diversas actividades extracurriculares, incluyendo clubes de robótica, sociedades estudiantiles, y eventos deportivos.\",\n",
    "    \"premios\": \"La Facultad de Ingeniería ha recibido varios premios y reconocimientos por su excelencia académica y contribuciones a la investigación y desarrollo tecnológico.\",\n",
    "    \"eventos importantes\": \"La Facultad de Ingeniería organiza eventos importantes como congresos, seminarios, ferias de ingeniería y semanas culturales.\",\n",
    "    \"posgrado\": \"La Facultad de Ingeniería ofrece programas de posgrado en diversas áreas de la ingeniería, incluyendo maestrías y doctorados.\\nRevisa el siguiente enlace: https://www.ingenieria.unam.mx/spifi/\",\n",
    "    \"¿qué alianzas y colaboraciones tiene la Facultad de Ingeniería?\": \"La Facultad de Ingeniería tiene alianzas y colaboraciones con diversas instituciones y empresas para promover la investigación y el desarrollo tecnológico.\",\n",
    "    \"¿cómo apoya la Facultad de Ingeniería a los emprendedores?\": \"La Facultad de Ingeniería apoya a los emprendedores a través de programas de incubación, asesorías y acceso a recursos tecnológicos y financieros.\",\n",
    "    \"¿qué especializaciones se ofrecen en la Facultad de Ingeniería?\": \"La Facultad de Ingeniería ofrece especializaciones en diversas áreas como ingeniería civil, ingeniería eléctrica, ingeniería mecánica, entre otras.\",\n",
    "    \"¿qué maestrías se pueden cursar en la Facultad de Ingeniería?\": \"La Facultad de Ingeniería ofrece maestrías en varias disciplinas, incluyendo ingeniería ambiental, ingeniería de sistemas, ingeniería estructural, entre otras.\",\n",
    "    \"¿qué doctorados se pueden cursar en la Facultad de Ingeniería?\": \"La Facultad de Ingeniería ofrece programas de doctorado en áreas como ingeniería civil, ingeniería eléctrica, ingeniería mecánica, entre otras.\",\n",
    "    \"¿qué programas de educación continua ofrece la Facultad de Ingeniería?\": \"La Facultad de Ingeniería ofrece programas de educación continua para actualización profesional en diversas áreas de la ingeniería.\",\n",
    "    \"¿qué programas de licenciatura ofrece la Facultad de Ingeniería?\": \"La Facultad de Ingeniería ofrece programas de licenciatura en ingeniería civil, ingeniería mecánica, ingeniería eléctrica, ingeniería en computación, entre otras.\",\n",
    "    \"¿qué es el programa de ingeniería en sistemas biomédicos?\": \"El programa de ingeniería en sistemas biomédicos se enfoca en la aplicación de principios de ingeniería para resolver problemas en el ámbito de la salud.\",\n",
    "    \"¿qué es el programa de ingeniería mecatrónica?\": \"El programa de ingeniería mecatrónica combina conocimientos de mecánica, electrónica y sistemas de control para diseñar y desarrollar sistemas automatizados.\",\n",
    "    \"¿qué es el programa de ingeniería en computación?\": \"El programa de ingeniería en computación se enfoca en el diseño y desarrollo de sistemas y aplicaciones computacionales.\",\n",
    "    \"¿qué es el programa de ingeniería en telecomunicaciones?\": \"El programa de ingeniería en telecomunicaciones se centra en la tecnología y sistemas de comunicación a larga distancia.\",\n",
    "    \"¿qué es el programa de ingeniería geofísica?\": \"El programa de ingeniería geofísica se dedica al estudio de la Tierra utilizando métodos físicos para entender su estructura y procesos.\",\n",
    "    \"¿qué es el programa de ingeniería petrolera?\": \"El programa de ingeniería petrolera se enfoca en la exploración y explotación de recursos petrolíferos y gasíferos.\",\n",
    "    \"¿qué es el programa de ingeniería de minas y metalurgia?\": \"El programa de ingeniería de minas y metalurgia se dedica al estudio y aplicación de técnicas para la extracción y procesamiento de minerales.\"\n",
    "}"
   ]
  },
  {
   "cell_type": "markdown",
   "metadata": {},
   "source": [
    "## Preprocesar texto"
   ]
  },
  {
   "cell_type": "code",
   "execution_count": 35,
   "metadata": {},
   "outputs": [],
   "source": [
    "def preprocesar_texto(texto):\n",
    "\n",
    "    # quitar mayusculas\n",
    "    texto = texto.lower()\n",
    "    # quitar puntuacion\n",
    "    texto = texto.translate(str.maketrans(\"\", \"\", string.punctuation))\n",
    "    # tokenizar\n",
    "    palabras = word_tokenize(texto, language=\"spanish\")\n",
    "    # quitar stop words\n",
    "    palabras = [palabra for palabra in palabras if palabra not in stopwords.words('spanish')]\n",
    "    print(palabras)\n",
    "    \n",
    "    return palabras"
   ]
  },
  {
   "cell_type": "markdown",
   "metadata": {},
   "source": [
    "## Obtener respuesta"
   ]
  },
  {
   "cell_type": "code",
   "execution_count": 46,
   "metadata": {},
   "outputs": [],
   "source": [
    "def obtener_respuesta(input_usuario):\n",
    "    # preprocesar texto\n",
    "    input_procesado = preprocesar_texto(input_usuario)\n",
    "    # Checar keywords en el corpus\n",
    "    for key in corpus.keys():\n",
    "        \n",
    "        if key in ' '.join(input_procesado):\n",
    "            \n",
    "            return corpus[key]\n",
    "        \n",
    "    return \"Lo siento, no entendí tu pregunta.\""
   ]
  },
  {
   "cell_type": "markdown",
   "metadata": {},
   "source": [
    "## Lógica chatbot"
   ]
  },
  {
   "cell_type": "code",
   "execution_count": 37,
   "metadata": {},
   "outputs": [],
   "source": [
    "def chatbot(nombre=\"Ruy\"):\n",
    "    print(\"ChatFI: Hola, inge! Soy ChatFI, tu asistente virtual. ¿Cómo te puedo ayudar?\")\n",
    "    while True: \n",
    "\n",
    "        input_usuario = input(f\"{nombre}: \")\n",
    "\n",
    "        respuesta = obtener_respuesta(input_usuario)\n",
    "        print(f\"ChatFI: {respuesta}\")\n",
    "\n",
    "        if input_usuario.lower() == \"adios\":\n",
    "            print(\"ChatFI: Hasta la próxima!\")\n",
    "            break\n",
    "        \n"
   ]
  },
  {
   "cell_type": "markdown",
   "metadata": {},
   "source": [
    "## Main"
   ]
  },
  {
   "cell_type": "code",
   "execution_count": 94,
   "metadata": {},
   "outputs": [
    {
     "name": "stdout",
     "output_type": "stream",
     "text": [
      "ChatFI: Hola, inge! Soy ChatFI, tu asistente virtual. ¿Cómo te puedo ayudar?\n",
      "['plan', 'estudios', 'ingenieria', 'computacion']\n",
      "ChatFI: Este es el plan de estudios: https://www.ingenieria.unam.mx/programas_academicos/licenciatura/computacion.php\n",
      "['hola']\n",
      "ChatFI: ¡Hola! ¿Cómo puedo ayudarte hoy?\n",
      "['llamas']\n",
      "ChatFI: Mi nombre es ChatFI\n",
      "[]\n",
      "ChatFI: Lo siento, no entendí tu pregunta.\n",
      "['ubica', 'facultad', 'ingenieria']\n",
      "ChatFI: La Facultad de Ingeniería de la UNAM está ubicada en Ciudad Universitaria, en la Ciudad de México.\n",
      "['fundo', 'facultad']\n",
      "ChatFI: Lo siento, no entendí tu pregunta.\n",
      "['director', 'facultad']\n",
      "ChatFI: El director de la Facultad de Ingeniería es el Dr. Espriu.\n",
      "[]\n",
      "ChatFI: Lo siento, no entendí tu pregunta.\n",
      "['plan', 'estudios', 'ingenieria', 'computacion']\n",
      "ChatFI: Este es el plan de estudios: https://www.ingenieria.unam.mx/programas_academicos/licenciatura/computacion.php\n",
      "['muestrame', 'mapa', 'facultad']\n",
      "ChatFI: Revisa el siguiente enlace: https://www.ssa.ingenieria.unam.mx/salon_aula.html\n",
      "['cuales', 'laboratorios', 'facultad']\n",
      "ChatFI: La Facultad de Ingeniería cuenta con laboratorios especializados en diversas áreas de la ingeniería, como el laboratorio de hidráulica, laboratorio de materiales, entre otros.\n",
      "['cuales', 'servicios', 'ofrece']\n",
      "ChatFI: La Facultad de Ingeniería ofrece diversos servicios a sus estudiantes, como asesorías académicas, bibliotecas, laboratorios y actividades extracurriculares.\n",
      "['adios']\n",
      "ChatFI: Adiós, ¡Que tengas un buen día!\n",
      "ChatFI: Hasta la próxima!\n"
     ]
    }
   ],
   "source": [
    "if __name__ == \"__main__\":\n",
    "    chatbot()"
   ]
  }
 ],
 "metadata": {
  "kernelspec": {
   "display_name": "venv",
   "language": "python",
   "name": "python3"
  },
  "language_info": {
   "codemirror_mode": {
    "name": "ipython",
    "version": 3
   },
   "file_extension": ".py",
   "mimetype": "text/x-python",
   "name": "python",
   "nbconvert_exporter": "python",
   "pygments_lexer": "ipython3",
   "version": "3.9.1"
  }
 },
 "nbformat": 4,
 "nbformat_minor": 2
}
